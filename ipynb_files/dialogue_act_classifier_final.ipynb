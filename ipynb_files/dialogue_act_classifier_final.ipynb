{
 "cells": [
  {
   "cell_type": "markdown",
   "id": "18fce750-423a-4b2c-bb22-8914aa7fcb73",
   "metadata": {},
   "source": [
    "# Import Statements"
   ]
  },
  {
   "cell_type": "code",
   "execution_count": 1,
   "id": "d9dc4d06-77d1-4536-8175-30e411dd21b4",
   "metadata": {},
   "outputs": [],
   "source": [
    "import os, pickle, math, random\n",
    "import numpy as np\n",
    "import pandas as pd\n",
    "from collections import Counter\n",
    "\n",
    "import torch\n",
    "import torch.nn as nn\n",
    "import torch.nn.functional as F\n",
    "from torch.utils.data import Dataset, DataLoader\n",
    "from sklearn.metrics import accuracy_score, f1_score\n",
    "import matplotlib.pyplot as plt"
   ]
  },
  {
   "cell_type": "code",
   "execution_count": 2,
   "id": "f03232a1-0ce7-4100-958c-01257512164f",
   "metadata": {},
   "outputs": [],
   "source": [
    "seed = 42\n",
    "random.seed(seed) \n",
    "np.random.seed(seed)\n",
    "torch.manual_seed(seed)\n",
    "\n",
    "if torch.cuda.is_available():\n",
    "    torch.cuda.manual_seed_all(seed)\n",
    "    \n",
    "device = torch.device(\"cuda\" if torch.cuda.is_available() else \"cpu\")"
   ]
  },
  {
   "cell_type": "code",
   "execution_count": 3,
   "id": "96c55d78-20ac-4156-8f9c-079ad7c3a64d",
   "metadata": {},
   "outputs": [],
   "source": [
    "class DialogueActDataset(Dataset):\n",
    "    # Custom PyTorch Dataset for dialogue-act classification.\n",
    "    def __init__(self, data_path, vocab_path, label2id, max_len=50,\n",
    "                 token_col=\"Tokens\", label_col=\"Act\"):\n",
    "        self.data = pd.read_pickle(data_path)\n",
    "        with open(vocab_path, \"rb\") as f:\n",
    "            self.vocab = pickle.load(f)\n",
    "        self.label2id = label2id\n",
    "        self.token_col = token_col\n",
    "        self.label_col = label_col\n",
    "        self.max_len = max_len\n",
    "        self.data = self.data[self.data[self.label_col].isin(self.label2id.keys())].reset_index(drop=True)\n",
    "\n",
    "    def __len__(self):\n",
    "        return len(self.data)\n",
    "\n",
    "    def __getitem__(self, idx):\n",
    "        row = self.data.iloc[idx]\n",
    "        tokens = row[self.token_col]\n",
    "        label  = row[self.label_col]\n",
    "\n",
    "        ids = [self.vocab.get(t, self.vocab[\"<UNK>\"]) for t in tokens]\n",
    "        ids = ids[:self.max_len]\n",
    "        ids += [self.vocab[\"<PAD>\"]] * (self.max_len - len(ids))\n",
    "\n",
    "        return torch.tensor(ids, dtype=torch.long), torch.tensor(self.label2id[label], dtype=torch.long)"
   ]
  },
  {
   "cell_type": "code",
   "execution_count": 4,
   "id": "af1ada55-7afa-4523-96a5-5a70c45167f2",
   "metadata": {},
   "outputs": [
    {
     "data": {
      "text/plain": [
       "[1, 2, 3, 4]"
      ]
     },
     "execution_count": 4,
     "metadata": {},
     "output_type": "execute_result"
    }
   ],
   "source": [
    "train_pkl = \"../data/processed/dd_train_tokenized.pkl\"\n",
    "val_pkl   = \"../data/processed/dd_val_tokenized.pkl\"\n",
    "test_pkl  = \"../data/processed/dd_test_tokenized.pkl\"\n",
    "vocab_pkl = \"../data/processed/vocab.pkl\"\n",
    "\n",
    "dd_train = pd.read_pickle(train_pkl)\n",
    "acts_in_train = sorted(dd_train[\"Act\"].unique().tolist())\n",
    "acts_in_train"
   ]
  },
  {
   "cell_type": "code",
   "execution_count": 5,
   "id": "83fe67fa-6645-4dc1-be44-b59945bd7e28",
   "metadata": {},
   "outputs": [
    {
     "name": "stdout",
     "output_type": "stream",
     "text": [
      "{1: 1, 2: 2, 3: 3, 4: 4}\n",
      "\n",
      "{1: 'inform', 2: 'question', 3: 'directive', 4: 'commissive'}\n"
     ]
    }
   ],
   "source": [
    "label2id = {a: a for a in acts_in_train}\n",
    "id2label = {\n",
    "    1: 'inform', 2: 'question', 3: 'directive', 4: 'commissive'\n",
    "}\n",
    "\n",
    "print(label2id)\n",
    "print()\n",
    "print(id2label)"
   ]
  },
  {
   "cell_type": "code",
   "execution_count": 6,
   "id": "4c30efba-6c3c-4b4f-aac0-0461242dda43",
   "metadata": {},
   "outputs": [],
   "source": [
    "with open(vocab_pkl, \"rb\") as f:\n",
    "    vocab = pickle.load(f)"
   ]
  },
  {
   "cell_type": "markdown",
   "id": "fc0dda21-5d38-4778-bd58-666b709355c3",
   "metadata": {},
   "source": [
    "# Data loader"
   ]
  },
  {
   "cell_type": "code",
   "execution_count": 7,
   "id": "30cb819b-9264-45e2-b752-5cbb42dac2cf",
   "metadata": {},
   "outputs": [],
   "source": [
    "batch_size = 32\n",
    "max_len = 50\n",
    "\n",
    "# Initialize train dataset\n",
    "train_dataset = DialogueActDataset(train_pkl, \n",
    "                              vocab_pkl, \n",
    "                              label2id, \n",
    "                              max_len=max_len, \n",
    "                              label_col=\"Act\")\n",
    "\n",
    "# Create train dataloader\n",
    "train_loader = DataLoader(train_dataset, batch_size=batch_size, shuffle=True)\n",
    "\n",
    "# Initialize validation dataset\n",
    "val_dataset   = DialogueActDataset(val_pkl,   \n",
    "                              vocab_pkl, \n",
    "                              label2id, \n",
    "                              max_len=max_len, \n",
    "                              label_col=\"Act\")\n",
    "# Create validation dataloader\n",
    "val_loader   = DataLoader(val_dataset,   batch_size=batch_size, shuffle=False)\n",
    "\n",
    "# Initialize test dataset\n",
    "test_dataset  = DialogueActDataset(test_pkl,  \n",
    "                              vocab_pkl, \n",
    "                              label2id, \n",
    "                              max_len=max_len, \n",
    "                              label_col=\"Act\")\n",
    "\n",
    "# Create test dataloader\n",
    "test_loader  = DataLoader(test_dataset,  batch_size=batch_size, shuffle=False)"
   ]
  },
  {
   "cell_type": "markdown",
   "id": "46cbcd60-6fa9-4a01-a790-787ad2fca1e8",
   "metadata": {},
   "source": [
    "# LSTM Model"
   ]
  },
  {
   "cell_type": "code",
   "execution_count": 8,
   "id": "42e13e92-1ad5-4e01-87ed-ae1da5146541",
   "metadata": {},
   "outputs": [],
   "source": [
    "class LSTMActClassifier(nn.Module):\n",
    "    def __init__(self, vocab_size, embed_dim, hidden_dim, output_dim, pad_idx, dropout=0.5):\n",
    "        # Initialize the LSTM-based dialogue act classifier model architecture.\n",
    "        super().__init__()\n",
    "        self.embedding = nn.Embedding(vocab_size, embed_dim, padding_idx=pad_idx)\n",
    "        self.lstm = nn.LSTM(embed_dim, hidden_dim, bidirectional=False, batch_first=True)\n",
    "        self.dropout = nn.Dropout(dropout)\n",
    "        self.fc = nn.Linear(hidden_dim, output_dim)\n",
    "        self.log_softmax = nn.LogSoftmax(dim=1)\n",
    "\n",
    "    def forward(self, x):\n",
    "        # Forward pass embeds tokens, process via LSTM, pool features, \n",
    "        # and output class log-probabilities.\n",
    "        \n",
    "        emb = self.embedding(x)\n",
    "        out, _ = self.lstm(emb)\n",
    "        mean_pool = out.mean(dim=1)\n",
    "        dropped = self.dropout(mean_pool)\n",
    "        logits = self.fc(dropped)\n",
    "        return self.log_softmax(logits)\n",
    "\n",
    "    @torch.no_grad()\n",
    "    def evaluate_loss(self, loader, criterion, device):\n",
    "        # Compute average loss of the model over a given dataset \n",
    "        # loader without gradient updates.\n",
    "        \n",
    "        self.eval()\n",
    "        losses, n = 0.0, 0\n",
    "        for x, y in loader:\n",
    "            x, y = x.to(device), y.to(device)\n",
    "            logp = self(x)\n",
    "            loss = criterion(logp, y)\n",
    "            losses += loss.item(); n += 1\n",
    "        return losses / max(n, 1)\n",
    "\n",
    "    @torch.no_grad()\n",
    "    def evaluate_model(self, loader, device):\n",
    "        # Evaluate classification performance (Accuracy, Macro-F1) over a dataset loader.\n",
    "        \n",
    "        self.eval()\n",
    "        all_y, all_p = [], []\n",
    "        for x, y in loader:\n",
    "            x, y = x.to(device), y.to(device)\n",
    "            logp = self(x)\n",
    "            pred = logp.argmax(dim=1)\n",
    "            all_y.extend(y.cpu().numpy())\n",
    "            all_p.extend(pred.cpu().numpy())\n",
    "        acc = accuracy_score(all_y, all_p)\n",
    "        macro_f1 = f1_score(all_y, all_p, average=\"macro\")\n",
    "        return acc, macro_f1\n",
    "\n",
    "    def fit(self, \n",
    "            train_loader, \n",
    "            val_loader, \n",
    "            criterion, \n",
    "            optimizer, \n",
    "            epochs,\n",
    "            device, \n",
    "            best_path=\"../models/checkpoints/act_best_weights.pt\",\n",
    "            last_path=\"../models/checkpoints/act_last_weights.pt\",\n",
    "            clip_grad=None):\n",
    "        # Train the model for multiple epochs, saving best and last checkpoints.\n",
    "        \n",
    "        os.makedirs(os.path.dirname(best_path), exist_ok=True)\n",
    "        os.makedirs(os.path.dirname(last_path), exist_ok=True)\n",
    "\n",
    "        self.to(device)\n",
    "        best_val = float(\"inf\")\n",
    "        train_losses = []\n",
    "        val_losses = []\n",
    "\n",
    "        for ep in range(1, epochs+1):\n",
    "            self.train()\n",
    "            total_loss, steps = 0.0, 0\n",
    "            for x, y in train_loader:\n",
    "                x, y = x.to(device), y.to(device)\n",
    "\n",
    "                optimizer.zero_grad()\n",
    "                logp = self(x)\n",
    "                loss = criterion(logp, y)\n",
    "                loss.backward()\n",
    "                if clip_grad is not None:\n",
    "                    nn.utils.clip_grad_norm_(self.parameters(), clip_grad)\n",
    "                optimizer.step()\n",
    "\n",
    "                total_loss += loss.item(); steps += 1\n",
    "\n",
    "            train_loss = total_loss / max(steps, 1)\n",
    "            val_loss = self.evaluate_loss(val_loader, criterion, device)\n",
    "            train_losses.append(train_loss)\n",
    "            val_losses.append(val_loss)\n",
    "\n",
    "            print(f\"Epoch {ep:02d}/{epochs} | Train {train_loss:.4f} | Val {val_loss:.4f}\")\n",
    "\n",
    "            if val_loss < best_val:\n",
    "                best_val = val_loss\n",
    "                torch.save(self.state_dict(), best_path)\n",
    "\n",
    "        torch.save(self.state_dict(), last_path)\n",
    "\n",
    "        print(\"\\nBest model saved!!\\n\")\n",
    "        print(\"Training completed!\\n\")\n",
    "\n",
    "        train_acc, train_macro_f1 = self.evaluate_model(train_loader, device)\n",
    "        print(f\"\\nFinal Train Accuracy: {train_acc:.4f}\")\n",
    "        print(f\"Final Train Macro F1: {train_macro_f1:.4f}\")\n",
    "        \n",
    "        val_acc, val_macro_f1 = self.evaluate_model(val_loader, device)\n",
    "        print(f\"\\nFinal Validation Accuracy: {val_acc:.4f}\")\n",
    "        print(f\"Final Validation Macro F1: {val_macro_f1:.4f}\")\n",
    "    \n",
    "        return train_losses, val_losses\n",
    "\n",
    "    def plot_loss_curves(self, train_losses, val_losses, name):\n",
    "        # Plot training and validation loss curves.\n",
    "        \n",
    "        plt.figure(figsize=(10, 5))\n",
    "        plt.plot(train_losses, label=\"Train Loss\")\n",
    "        plt.plot(val_losses, label=\"Validation Loss\")\n",
    "        plt.xlabel(\"Epochs\")\n",
    "        plt.ylabel(\"Loss\")\n",
    "        plt.title(f\"Train and Validation Loss Curve for {name}\")\n",
    "        plt.legend()\n",
    "        plt.grid(True)\n",
    "        plt.show()\n",
    "\n",
    "    def classify_dialogue_act(self, dataset):\n",
    "            # Predict emotions for some sample utterances from the test dataset\n",
    "            # to see the performance of the model\n",
    "            \n",
    "            id2label = {\n",
    "                1: \"inform\",\n",
    "                2: \"question\",\n",
    "                3: \"directive\",\n",
    "                4: \"commissive\"\n",
    "            }\n",
    "            index = [5639, 75, 4225, 1796, 568, 2551, 6223, 2324]\n",
    "            \n",
    "            for i in index:\n",
    "                row = dataset.data.iloc[i]\n",
    "                text = row[\"Utterance\"]\n",
    "            \n",
    "                input_ids, label = dataset[i]\n",
    "                input_ids = input_ids.unsqueeze(0).to(device)\n",
    "            \n",
    "                with torch.no_grad():\n",
    "                    output = self(input_ids)\n",
    "                    pred = torch.argmax(output, dim=1).item()\n",
    "            \n",
    "                print(\"Utterance:\", text)\n",
    "                print(\"True:\", id2label[int(label.item())], \"| Predicted:\", id2label[pred])\n",
    "                print()"
   ]
  },
  {
   "cell_type": "code",
   "execution_count": 9,
   "id": "bdc5612e-40ce-4142-b3ae-eab24d2b41d4",
   "metadata": {},
   "outputs": [],
   "source": [
    "vocab_size = len(vocab)\n",
    "pad_idx = vocab[\"<PAD>\"]\n",
    "output_dimen = max(label2id.values()) + 1\n",
    "\n",
    "embed_dimen = 128\n",
    "hidden_dimen = 64\n",
    "droupout = 0.5\n",
    "epochs = 10\n",
    "lr = 1e-3"
   ]
  },
  {
   "cell_type": "code",
   "execution_count": 10,
   "id": "9e551046-1e9c-4c3e-86ac-a837aaf01de3",
   "metadata": {},
   "outputs": [],
   "source": [
    "# Initialise the model, optimizer and criterion\n",
    "model = LSTMActClassifier(\n",
    "    vocab_size=vocab_size,\n",
    "    embed_dim=embed_dimen,\n",
    "    hidden_dim=hidden_dimen,\n",
    "    output_dim=output_dimen,\n",
    "    pad_idx=pad_idx,\n",
    "    dropout=droupout\n",
    ").to(device)\n",
    "\n",
    "optimizer = torch.optim.Adam(model.parameters(), lr)\n",
    "criterion = nn.NLLLoss()"
   ]
  },
  {
   "cell_type": "markdown",
   "id": "ec0a89ff-ffac-4919-906c-4f61a66cc20c",
   "metadata": {},
   "source": [
    "# Model Training"
   ]
  },
  {
   "cell_type": "code",
   "execution_count": 11,
   "id": "cdb54a84-acaa-4254-a654-7ef00e357188",
   "metadata": {},
   "outputs": [
    {
     "name": "stdout",
     "output_type": "stream",
     "text": [
      "Epoch 01/10 | Train 1.0978 | Val 1.0356\n",
      "Epoch 02/10 | Train 0.9471 | Val 0.9889\n",
      "Epoch 03/10 | Train 0.8730 | Val 0.9816\n",
      "Epoch 04/10 | Train 0.8089 | Val 0.9715\n",
      "Epoch 05/10 | Train 0.7495 | Val 1.0031\n",
      "Epoch 06/10 | Train 0.6940 | Val 1.0152\n",
      "Epoch 07/10 | Train 0.6477 | Val 1.0411\n",
      "Epoch 08/10 | Train 0.6016 | Val 1.0951\n",
      "Epoch 09/10 | Train 0.5627 | Val 1.1744\n",
      "Epoch 10/10 | Train 0.5307 | Val 1.1857\n",
      "\n",
      "Best model saved!!\n",
      "\n",
      "Training completed!\n",
      "\n",
      "\n",
      "Final Train Accuracy: 0.8359\n",
      "Final Train Macro F1: 0.7864\n",
      "\n",
      "Final Validation Accuracy: 0.6177\n",
      "Final Validation Macro F1: 0.5708\n"
     ]
    }
   ],
   "source": [
    "# Train the model\n",
    "ckpt_dir = \"../models/checkpoints/act_classifier/tuning\"\n",
    "best_ckpt = os.path.join(ckpt_dir, \"act_classifier_best.pt\")\n",
    "last_ckpt = os.path.join(ckpt_dir, \"act_classifier_last.pt\")\n",
    "\n",
    "train_losses, val_losses = model.fit(train_loader, \n",
    "          val_loader, \n",
    "          criterion, \n",
    "          optimizer, \n",
    "          epochs,\n",
    "          device=device, \n",
    "          best_path=best_ckpt, \n",
    "          last_path=last_ckpt, \n",
    "          clip_grad=1.0)"
   ]
  },
  {
   "cell_type": "code",
   "execution_count": 12,
   "id": "5fa04931-da82-4c71-bc11-6c3e4828e8b9",
   "metadata": {},
   "outputs": [
    {
     "data": {
      "image/png": "[encoded data removed]",
      "text/plain": [
       "<Figure size 1000x500 with 1 Axes>"
      ]
     },
     "metadata": {},
     "output_type": "display_data"
    }
   ],
   "source": [
    "# Plot the loss curve\n",
    "model.plot_loss_curves(train_losses, val_losses, \"Base Model\")"
   ]
  },
  {
   "cell_type": "markdown",
   "id": "e52b96d1-7df9-4f5e-bfae-afdf24e3b014",
   "metadata": {},
   "source": [
    "# Testing the model"
   ]
  },
  {
   "cell_type": "code",
   "execution_count": 13,
   "id": "a7882f72-1e2a-459d-90d4-5ff439ae534e",
   "metadata": {},
   "outputs": [
    {
     "name": "stdout",
     "output_type": "stream",
     "text": [
      "Accuracy: 0.6491, Macro F1: 0.5856\n"
     ]
    }
   ],
   "source": [
    "acc, macro_f1 = model.evaluate_model(test_loader, device)\n",
    "print(f\"Accuracy: {acc:.4f}, Macro F1: {macro_f1:.4f}\")"
   ]
  },
  {
   "cell_type": "markdown",
   "id": "714c8484-613b-4c4c-a45f-a1c540d0b694",
   "metadata": {},
   "source": [
    "# Check predictions"
   ]
  },
  {
   "cell_type": "code",
   "execution_count": 14,
   "id": "bcbb9190-cc51-43f0-ae3c-f340a7de09ec",
   "metadata": {},
   "outputs": [
    {
     "name": "stdout",
     "output_type": "stream",
     "text": [
      "Utterance:  You'd better pay more attention to your health . \n",
      "True: directive | Predicted: directive\n",
      "\n",
      "Utterance:  A good rest is all you need , and drink more water . I'll write you a prescription . \n",
      "True: directive | Predicted: directive\n",
      "\n",
      "Utterance: What's wrong with you ? You look pale . \n",
      "True: question | Predicted: question\n",
      "\n",
      "Utterance:  What am I suppose to do ? \n",
      "True: question | Predicted: inform\n",
      "\n",
      "Utterance:  I know what you mean . I ought to wear right clothes at the right time . \n",
      "True: commissive | Predicted: question\n",
      "\n",
      "Utterance:  Let me see . I am sorry we just have sold it out . \n",
      "True: commissive | Predicted: commissive\n",
      "\n",
      "Utterance:  Just make yourself at home . The other guests should be arriving shortly . \n",
      "True: inform | Predicted: question\n",
      "\n",
      "Utterance:  Not yet , I pick it up tomorrow . \n",
      "True: inform | Predicted: inform\n",
      "\n"
     ]
    }
   ],
   "source": [
    "model.classify_dialogue_act(test_dataset)"
   ]
  },
  {
   "cell_type": "markdown",
   "id": "86445900-8b29-4fc5-b334-67d8e7c1b8a5",
   "metadata": {},
   "source": [
    "# Hyper parameter tuning"
   ]
  },
  {
   "cell_type": "code",
   "execution_count": 15,
   "id": "e8033a0e-d365-46ae-922b-c34190efd615",
   "metadata": {},
   "outputs": [],
   "source": [
    "hyper_parameter_variants = [\n",
    "    {\"embed_dim\": 128, \n",
    "     \"hidden_dim\": 256, \n",
    "     \"optim\": \"Adam\"},\n",
    "    \n",
    "    {\"embed_dim\": 200, \n",
    "     \"hidden_dim\": 256, \n",
    "     \"optim\": \"AdamW\"},\n",
    "]\n",
    "\n",
    "def fine_tune_model(variants):\n",
    "    # Train and evaluate the BiLSTMEmotionClassifier for multiple hyperparameter configurations.\n",
    "    \n",
    "    i = 1\n",
    "    for variant in variants:\n",
    "        print(f\"Training the model with parameters: {variant}\")\n",
    "        print()\n",
    "\n",
    "        model = LSTMActClassifier(\n",
    "            vocab_size=vocab_size,\n",
    "            embed_dim = variant[\"embed_dim\"], \n",
    "            hidden_dim = variant[\"hidden_dim\"], \n",
    "            output_dim=output_dimen,\n",
    "            pad_idx=pad_idx,\n",
    "            dropout=droupout\n",
    "        ).to(device)\n",
    "        \n",
    "        if variant[\"optim\"] == \"Adam\":\n",
    "            optimizer = torch.optim.Adam(model.parameters(), lr)\n",
    "\n",
    "        elif variant[\"optim\"] == \"AdamW\":\n",
    "            optimizer = torch.optim.AdamW(model.parameters(), lr)\n",
    "\n",
    "        variant_best_ckpt = os.path.join(ckpt_dir, f\"act_classifier_best_variant{i}.pt\")\n",
    "        variant_last_ckpt = os.path.join(ckpt_dir, f\"act_classifier_last_variant{i}.pt\")\n",
    "\n",
    "        train_losses, val_losses = model.fit(train_loader, \n",
    "          val_loader, \n",
    "          criterion, \n",
    "          optimizer, \n",
    "          epochs,\n",
    "          device=device, \n",
    "          best_path=variant_best_ckpt, \n",
    "          last_path=variant_last_ckpt, \n",
    "          clip_grad=1.0\n",
    "        )\n",
    "\n",
    "        print()\n",
    "        test_acc, test_macro_f1 = model.evaluate_model(test_loader, device)\n",
    "        print(f\"Final Test Accuracy: {test_acc:.4f}\")\n",
    "        print(f\"Final Test Macro F1: {test_macro_f1:.4f}\")\n",
    "\n",
    "        model.plot_loss_curves(train_losses, val_losses, f\"Model variant{i}\")\n",
    "\n",
    "        print(\"Dialog-act predictions for the model variant:\")\n",
    "        model.classify_dialogue_act(test_dataset)\n",
    "        i += 1\n",
    "        print()"
   ]
  },
  {
   "cell_type": "code",
   "execution_count": 16,
   "id": "6f1b718f-fa94-4563-ade9-a6e3b700040a",
   "metadata": {},
   "outputs": [
    {
     "name": "stdout",
     "output_type": "stream",
     "text": [
      "Training the model with parameters: {'embed_dim': 128, 'hidden_dim': 256, 'optim': 'Adam'}\n",
      "\n",
      "Epoch 01/10 | Train 1.0557 | Val 1.0075\n",
      "Epoch 02/10 | Train 0.9147 | Val 0.9630\n",
      "Epoch 03/10 | Train 0.8279 | Val 0.9599\n",
      "Epoch 04/10 | Train 0.7301 | Val 0.9773\n",
      "Epoch 05/10 | Train 0.6237 | Val 0.9978\n",
      "Epoch 06/10 | Train 0.5278 | Val 1.1326\n",
      "Epoch 07/10 | Train 0.4539 | Val 1.2236\n",
      "Epoch 08/10 | Train 0.3965 | Val 1.3234\n",
      "Epoch 09/10 | Train 0.3570 | Val 1.4700\n",
      "Epoch 10/10 | Train 0.3254 | Val 1.4592\n",
      "\n",
      "Best model saved!!\n",
      "\n",
      "Training completed!\n",
      "\n",
      "\n",
      "Final Train Accuracy: 0.9081\n",
      "Final Train Macro F1: 0.8776\n",
      "\n",
      "Final Validation Accuracy: 0.6218\n",
      "Final Validation Macro F1: 0.5707\n",
      "\n",
      "Final Test Accuracy: 0.6615\n",
      "Final Test Macro F1: 0.5931\n"
     ]
    },
    {
     "data": {
      "image/png": "[encoded data removed]",
      "text/plain": [
       "<Figure size 1000x500 with 1 Axes>"
      ]
     },
     "metadata": {},
     "output_type": "display_data"
    },
    {
     "name": "stdout",
     "output_type": "stream",
     "text": [
      "Dialog-act predictions for the model variant:\n",
      "Utterance:  You'd better pay more attention to your health . \n",
      "True: directive | Predicted: directive\n",
      "\n",
      "Utterance:  A good rest is all you need , and drink more water . I'll write you a prescription . \n",
      "True: directive | Predicted: commissive\n",
      "\n",
      "Utterance: What's wrong with you ? You look pale . \n",
      "True: question | Predicted: question\n",
      "\n",
      "Utterance:  What am I suppose to do ? \n",
      "True: question | Predicted: inform\n",
      "\n",
      "Utterance:  I know what you mean . I ought to wear right clothes at the right time . \n",
      "True: commissive | Predicted: inform\n",
      "\n",
      "Utterance:  Let me see . I am sorry we just have sold it out . \n",
      "True: commissive | Predicted: commissive\n",
      "\n",
      "Utterance:  Just make yourself at home . The other guests should be arriving shortly . \n",
      "True: inform | Predicted: inform\n",
      "\n",
      "Utterance:  Not yet , I pick it up tomorrow . \n",
      "True: inform | Predicted: directive\n",
      "\n",
      "\n",
      "Training the model with parameters: {'embed_dim': 200, 'hidden_dim': 256, 'optim': 'AdamW'}\n",
      "\n",
      "Epoch 01/10 | Train 1.0425 | Val 0.9945\n",
      "Epoch 02/10 | Train 0.8981 | Val 0.9729\n",
      "Epoch 03/10 | Train 0.8054 | Val 0.9474\n",
      "Epoch 04/10 | Train 0.7063 | Val 0.9761\n",
      "Epoch 05/10 | Train 0.6034 | Val 1.0095\n",
      "Epoch 06/10 | Train 0.5125 | Val 1.0854\n",
      "Epoch 07/10 | Train 0.4434 | Val 1.2063\n",
      "Epoch 08/10 | Train 0.3926 | Val 1.3331\n",
      "Epoch 09/10 | Train 0.3549 | Val 1.3774\n",
      "Epoch 10/10 | Train 0.3254 | Val 1.4271\n",
      "\n",
      "Best model saved!!\n",
      "\n",
      "Training completed!\n",
      "\n",
      "\n",
      "Final Train Accuracy: 0.9028\n",
      "Final Train Macro F1: 0.8746\n",
      "\n",
      "Final Validation Accuracy: 0.6213\n",
      "Final Validation Macro F1: 0.5832\n",
      "\n",
      "Final Test Accuracy: 0.6547\n",
      "Final Test Macro F1: 0.5930\n"
     ]
    },
    {
     "data": {
      "image/png": "[encoded data removed]",
      "text/plain": [
       "<Figure size 1000x500 with 1 Axes>"
      ]
     },
     "metadata": {},
     "output_type": "display_data"
    },
    {
     "name": "stdout",
     "output_type": "stream",
     "text": [
      "Dialog-act predictions for the model variant:\n",
      "Utterance:  You'd better pay more attention to your health . \n",
      "True: directive | Predicted: directive\n",
      "\n",
      "Utterance:  A good rest is all you need , and drink more water . I'll write you a prescription . \n",
      "True: directive | Predicted: directive\n",
      "\n",
      "Utterance: What's wrong with you ? You look pale . \n",
      "True: question | Predicted: question\n",
      "\n",
      "Utterance:  What am I suppose to do ? \n",
      "True: question | Predicted: inform\n",
      "\n",
      "Utterance:  I know what you mean . I ought to wear right clothes at the right time . \n",
      "True: commissive | Predicted: directive\n",
      "\n",
      "Utterance:  Let me see . I am sorry we just have sold it out . \n",
      "True: commissive | Predicted: commissive\n",
      "\n",
      "Utterance:  Just make yourself at home . The other guests should be arriving shortly . \n",
      "True: inform | Predicted: question\n",
      "\n",
      "Utterance:  Not yet , I pick it up tomorrow . \n",
      "True: inform | Predicted: directive\n",
      "\n",
      "\n"
     ]
    }
   ],
   "source": [
    "fine_tune_model(hyper_parameter_variants)"
   ]
  },
  {
   "cell_type": "markdown",
   "id": "cc01d882-93bd-438e-9c02-1aa75a130763",
   "metadata": {},
   "source": [
    "Analysis:\n",
    " - The base model is showing a test accuracy of 64.91% and a Macro F1 score of 0.5856\n",
    " - The hyper parameter variant 1 model is showing a test accuracy of 66.15% and a Macro F1 score of 0.5931\n",
    " - The hyper parameter variant 2 model is showing a test accuracy of 66.47% and a Macro F1 score of 0.5930\n",
    " - The hyper parameter tuning has worked to improve the base performance of the dialogue act classifier model.\n",
    " - Since the model with hyper parameter variant 2 is showing a better output, considering this model for dialogue act classifier model."
   ]
  },
  {
   "cell_type": "code",
   "execution_count": null,
   "id": "3e4257de-2ad2-44d3-aae8-644d8a5c189d",
   "metadata": {},
   "outputs": [],
   "source": []
  }
 ],
 "metadata": {
  "kernelspec": {
   "display_name": "Python (nlp_project)",
   "language": "python",
   "name": "nlp_project"
  },
  "language_info": {
   "codemirror_mode": {
    "name": "ipython",
    "version": 3
   },
   "file_extension": ".py",
   "mimetype": "text/x-python",
   "name": "python",
   "nbconvert_exporter": "python",
   "pygments_lexer": "ipython3",
   "version": "3.9.23"
  }
 },
 "nbformat": 4,
 "nbformat_minor": 5
}
