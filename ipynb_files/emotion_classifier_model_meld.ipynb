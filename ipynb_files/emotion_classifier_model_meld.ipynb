{
 "cells": [
  {
   "cell_type": "markdown",
   "id": "a5c265f6-0b7a-42e3-8f32-f9353f6460cc",
   "metadata": {},
   "source": [
    "# Import Statements"
   ]
  },
  {
   "cell_type": "code",
   "execution_count": 1,
   "id": "81838094-6b63-42bb-a847-05ba332de8b4",
   "metadata": {},
   "outputs": [],
   "source": [
    "import torch\n",
    "import torch.nn as nn\n",
    "from torch.utils.data import Dataset, DataLoader\n",
    "import pandas as pd\n",
    "import pickle\n",
    "from sklearn.metrics import f1_score, accuracy_score\n",
    "import torch.nn.functional as F\n",
    "import numpy as np\n",
    "import os\n",
    "import re\n",
    "import matplotlib.pyplot as plt"
   ]
  },
  {
   "cell_type": "code",
   "execution_count": 2,
   "id": "a00f364e-77d4-4388-8f2e-fec9bc5b47a6",
   "metadata": {},
   "outputs": [],
   "source": [
    "class EmotionDataset(Dataset):\n",
    "    def __init__(self, data_path, vocab_path, label2id, max_len=50):\n",
    "        self.data = pd.read_pickle(data_path)\n",
    "        with open(vocab_path, 'rb') as f:\n",
    "            self.vocab = pickle.load(f)\n",
    "        self.label2id = label2id\n",
    "        self.max_len = max_len\n",
    "\n",
    "    def __len__(self):\n",
    "        return len(self.data)\n",
    "\n",
    "    def __getitem__(self, idx):\n",
    "        row = self.data.iloc[idx]\n",
    "        tokens = row['tokens']\n",
    "        label = row['Emotion']\n",
    "\n",
    "        token_ids = [self.vocab.get(tok, self.vocab[\"<UNK>\"]) for tok in tokens]\n",
    "        token_ids = token_ids[:self.max_len]\n",
    "        token_ids += [self.vocab[\"<PAD>\"]] * (self.max_len - len(token_ids))\n",
    "\n",
    "        return torch.tensor(token_ids), torch.tensor(self.label2id[label])"
   ]
  },
  {
   "cell_type": "code",
   "execution_count": 3,
   "id": "59c9e435-b47a-4887-896a-aea9014cf499",
   "metadata": {},
   "outputs": [],
   "source": [
    "# There are 7 emotions. Each emotion is associated to an id\n",
    "label2id = {\n",
    "    'neutral': 0,\n",
    "    'joy': 1,\n",
    "    'surprise': 2,\n",
    "    'anger': 3,\n",
    "    'sadness': 4,\n",
    "    'disgust': 5,\n",
    "    'fear': 6\n",
    "}"
   ]
  },
  {
   "cell_type": "code",
   "execution_count": 4,
   "id": "ab43a1d1-4c8f-45c9-adb6-1f4867838834",
   "metadata": {},
   "outputs": [],
   "source": [
    "with open(\"../data/processed/vocab_meld.pkl\", \"rb\") as f:\n",
    "    vocab = pickle.load(f)"
   ]
  },
  {
   "cell_type": "markdown",
   "id": "ab082c8c-cbc8-4348-aaf1-d381e6836376",
   "metadata": {},
   "source": [
    "# Dataloader"
   ]
  },
  {
   "cell_type": "code",
   "execution_count": 5,
   "id": "88ba87e5-d257-41d5-be7b-994988b51e99",
   "metadata": {},
   "outputs": [],
   "source": [
    "# Initialize training dataset\n",
    "\n",
    "train_dataset = EmotionDataset(\n",
    "    data_path=\"../data/processed/meld_train_tokenized.pkl\",\n",
    "    vocab_path=\"../data/processed/vocab_meld.pkl\",\n",
    "    label2id=label2id,\n",
    "    max_len=50\n",
    ")\n",
    "\n",
    "# Create training dataloader\n",
    "train_loader = DataLoader(train_dataset, batch_size=32, shuffle=True)\n",
    "\n",
    "val_dataset = EmotionDataset(\n",
    "    data_path=\"../data/processed/meld_val_tokenized.pkl\",\n",
    "    vocab_path=\"../data/processed/vocab_meld.pkl\",\n",
    "    label2id=label2id,\n",
    "    max_len=50\n",
    ")\n",
    "\n",
    "# Create validation dataloader\n",
    "val_loader = DataLoader(val_dataset, batch_size=32, shuffle=True)\n",
    "\n",
    "# Create testing dataloader\n",
    "test_dataset = EmotionDataset(\n",
    "    data_path=\"../data/processed/meld_test_tokenized.pkl\",\n",
    "    vocab_path=\"../data/processed/vocab_meld.pkl\",\n",
    "    label2id=label2id,\n",
    "    max_len=50\n",
    ")\n",
    "\n",
    "# Create testing dataloader\n",
    "test_loader = DataLoader(test_dataset, batch_size=32, shuffle=False)"
   ]
  },
  {
   "cell_type": "markdown",
   "id": "6c767f5f-bd41-4560-b281-c5eac8b5f34c",
   "metadata": {},
   "source": [
    "# BiLSTM Model"
   ]
  },
  {
   "cell_type": "code",
   "execution_count": 6,
   "id": "09badf71-aea4-4be7-8290-084e60e31384",
   "metadata": {},
   "outputs": [],
   "source": [
    "class BiLSTMEmotionClassifier(nn.Module):\n",
    "    def __init__(self, vocab_size, embed_dim, hidden_dim, output_dim, pad_idx):\n",
    "        # Initialize BiLSTM-based emotion classifier model with embeddings, BiLSTM, \n",
    "        # dropout, and output layer.\n",
    "        \n",
    "        super().__init__()\n",
    "        self.embedding = nn.Embedding(vocab_size, embed_dim, padding_idx=pad_idx)\n",
    "        self.lstm = nn.LSTM(embed_dim, hidden_dim, bidirectional=True, batch_first=True)\n",
    "        self.dropout = nn.Dropout(0.5)\n",
    "        self.fc = nn.Linear(hidden_dim * 2, output_dim)\n",
    "        self.softmax = nn.LogSoftmax(dim=1)\n",
    "\n",
    "    def forward(self, x):\n",
    "        # Forward pass embeds tokens, run through BiLSTM, average pooling, dropout, \n",
    "        # and output layer.\n",
    "        embedded = self.embedding(x)\n",
    "        lstm_out, _ = self.lstm(embedded)\n",
    "        avg_pool = torch.mean(lstm_out, dim=1)\n",
    "        dropped = self.dropout(avg_pool)\n",
    "        output = self.fc(dropped)\n",
    "        return self.softmax(output)\n",
    "\n",
    "    def evaluate_loss(self, dataloader, device=\"cpu\"):\n",
    "        # Evaluate average loss of the model on a given dataloader \n",
    "        # without gradient updates.\n",
    "        \n",
    "        self.eval()\n",
    "        criterion = nn.NLLLoss()\n",
    "        total_loss, batches = 0.0, 0\n",
    "\n",
    "        with torch.no_grad():\n",
    "            for inputs, labels in dataloader:\n",
    "                inputs, labels = inputs.to(device), labels.to(device)\n",
    "                outputs = self(inputs)\n",
    "                loss = criterion(outputs, labels)\n",
    "                total_loss += loss.item()\n",
    "                batches += 1\n",
    "\n",
    "        return total_loss / max(batches, 1)\n",
    "\n",
    "    \n",
    "    def evaluate_model(self, dataloader, device=\"cpu\"):\n",
    "        # Calculate accuracy and macro-F1 score for the model on given dataloader.\n",
    "        \n",
    "        self.eval()\n",
    "        all_preds, all_labels = [], []\n",
    "\n",
    "        with torch.no_grad():\n",
    "            for inputs, labels in dataloader:\n",
    "                inputs, labels = inputs.to(device), labels.to(device)\n",
    "                outputs = self(inputs)\n",
    "                preds = torch.argmax(outputs, dim=1)\n",
    "                all_preds.extend(preds.cpu().numpy())\n",
    "                all_labels.extend(labels.cpu().numpy())\n",
    "\n",
    "        # Compute metrics \n",
    "        acc = accuracy_score(all_labels, all_preds)\n",
    "        macro_f1 = f1_score(all_labels, all_preds, average='macro')\n",
    "        return acc, macro_f1\n",
    "\n",
    "    \n",
    "    def fit(\n",
    "        self,\n",
    "        optimizer,\n",
    "        criterion,\n",
    "        train_loader,\n",
    "        val_loader,\n",
    "        epochs,\n",
    "        lr,\n",
    "        device=\"cpu\",\n",
    "        save_best_path=\"../models/checkpoints/emotion_classifer_best_weights.pt\",\n",
    "        save_last_path=\"../models/checkpoints/emotion_classifer_last_weights.pt\"\n",
    "    ):\n",
    "        # Train the model for given epochs while saving best and last checkpoints.\n",
    "        \n",
    "        os.makedirs(os.path.dirname(save_best_path), exist_ok=True)\n",
    "        os.makedirs(os.path.dirname(save_last_path), exist_ok=True)\n",
    "    \n",
    "        self.to(device)\n",
    "        best_val_loss = float(\"inf\")\n",
    "        train_losses = []\n",
    "        val_losses = []\n",
    "    \n",
    "        for epoch in range(epochs):\n",
    "            self.train()\n",
    "            total_loss, batches = 0.0, 0\n",
    "    \n",
    "            for inputs, labels in train_loader:\n",
    "                inputs, labels = inputs.to(device), labels.to(device)\n",
    "    \n",
    "                optimizer.zero_grad()\n",
    "                outputs = self(inputs)\n",
    "                loss = criterion(outputs, labels)\n",
    "                loss.backward()\n",
    "                optimizer.step()\n",
    "    \n",
    "                total_loss += loss.item()\n",
    "                batches += 1\n",
    "    \n",
    "            train_loss = total_loss / max(batches, 1)\n",
    "            val_loss = self.evaluate_loss(val_loader, device)\n",
    "            train_losses.append(train_loss)\n",
    "            val_losses.append(val_loss)\n",
    "    \n",
    "            print(f\"Epoch {epoch+1}/{epochs} | Train Loss: {train_loss:.4f} | Val Loss: {val_loss:.4f}\")\n",
    "    \n",
    "            if val_loss < best_val_loss:\n",
    "                best_val_loss = val_loss\n",
    "                torch.save(self.state_dict(), save_best_path)\n",
    "    \n",
    "        torch.save(self.state_dict(), save_last_path)\n",
    "    \n",
    "        print(\"\\nBest model saved!!\\n\")\n",
    "        print(\"Training completed!\\n\")\n",
    "\n",
    "        train_acc, train_macro_f1 = self.evaluate_model(train_loader, device)\n",
    "        print(f\"\\nFinal Train Accuracy: {train_acc:.4f}\")\n",
    "        print(f\"Final Train Macro F1: {train_macro_f1:.4f}\")\n",
    "        \n",
    "        val_acc, val_macro_f1 = self.evaluate_model(val_loader, device)\n",
    "        print(f\"\\nFinal Validation Accuracy: {val_acc:.4f}\")\n",
    "        print(f\"Final Validation Macro F1: {val_macro_f1:.4f}\")\n",
    "    \n",
    "        return train_losses, val_losses\n",
    "\n",
    "    def plot_loss_curves(self, train_losses, val_losses, name):\n",
    "        # Plot training and validation loss curves.\n",
    "        \n",
    "        plt.figure(figsize=(10, 5))\n",
    "        plt.plot(train_losses, label=\"Train Loss\")\n",
    "        plt.plot(val_losses, label=\"Validation Loss\")\n",
    "        plt.xlabel(\"Epochs\")\n",
    "        plt.ylabel(\"Loss\")\n",
    "        plt.title(f\"Train and Validation Loss Curve for {name}\")\n",
    "        plt.legend()\n",
    "        plt.grid(True)\n",
    "        plt.show()\n",
    "\n",
    "    def emotion_predict(self, dataset):\n",
    "        # Predict emotions for some sample utterances from the test dataset\n",
    "        # to see the performance of the model\n",
    "        \n",
    "        id2label = {\n",
    "            0: 'neutral', 1: 'joy', 2: 'surprise', 3: 'anger',\n",
    "            4: 'sadness', 5: 'disgust', 6: 'fear'\n",
    "        }\n",
    "        index = [31, 43, 104, 84, 369, 478, 1079]\n",
    "        \n",
    "        for i in index:\n",
    "            row = dataset.data.iloc[i]\n",
    "            text = row[\"Utterance\"]\n",
    "        \n",
    "            input_ids, label = dataset[i]\n",
    "            input_ids = input_ids.unsqueeze(0).to(device)\n",
    "        \n",
    "            with torch.no_grad():\n",
    "                output = self(input_ids)\n",
    "                pred = torch.argmax(output, dim=1).item()\n",
    "        \n",
    "            print(\"Utterance:\", text)\n",
    "            print(\"True:\", id2label[int(label.item())], \"| Predicted:\", id2label[pred])\n",
    "            print()"
   ]
  },
  {
   "cell_type": "code",
   "execution_count": 7,
   "id": "7a6f6154-2e50-4390-ba11-98c885079e52",
   "metadata": {},
   "outputs": [],
   "source": [
    "vocab_size = len(vocab)\n",
    "embed_dimen = 128\n",
    "hidden_dimen = 64\n",
    "output_dimen = len(label2id)\n",
    "pad_idxx = vocab[\"<PAD>\"]\n",
    "epochs = 10\n",
    "lr = 1e-3\n",
    "device = torch.device(\"cuda\" if torch.cuda.is_available() else \"cpu\")"
   ]
  },
  {
   "cell_type": "code",
   "execution_count": 8,
   "id": "472df438-56cd-4a0d-9b16-b5c13637154d",
   "metadata": {},
   "outputs": [],
   "source": [
    "# Initialise the model, optimizer and criterion\n",
    "model = BiLSTMEmotionClassifier(\n",
    "    vocab_size = vocab_size, \n",
    "    embed_dim = embed_dimen, \n",
    "    hidden_dim = hidden_dimen, \n",
    "    output_dim = output_dimen, \n",
    "    pad_idx = pad_idxx)\n",
    "\n",
    "optimizer = torch.optim.Adam(model.parameters(), lr)\n",
    "criterion = nn.NLLLoss()"
   ]
  },
  {
   "cell_type": "markdown",
   "id": "21bf8a79-bc31-4545-a9ab-1f68d653b791",
   "metadata": {},
   "source": [
    "# Training the model"
   ]
  },
  {
   "cell_type": "code",
   "execution_count": 9,
   "id": "b4e1a978-65b3-4078-9d36-9aac8cdfe731",
   "metadata": {},
   "outputs": [
    {
     "name": "stdout",
     "output_type": "stream",
     "text": [
      "Epoch 1/10 | Train Loss: 1.5630 | Val Loss: 1.6088\n",
      "Epoch 2/10 | Train Loss: 1.4936 | Val Loss: 1.5855\n",
      "Epoch 3/10 | Train Loss: 1.4487 | Val Loss: 1.5695\n",
      "Epoch 4/10 | Train Loss: 1.4098 | Val Loss: 1.5705\n",
      "Epoch 5/10 | Train Loss: 1.3646 | Val Loss: 1.6214\n",
      "Epoch 6/10 | Train Loss: 1.3256 | Val Loss: 1.5646\n",
      "Epoch 7/10 | Train Loss: 1.2885 | Val Loss: 1.6157\n",
      "Epoch 8/10 | Train Loss: 1.2325 | Val Loss: 1.6362\n",
      "Epoch 9/10 | Train Loss: 1.1846 | Val Loss: 1.6753\n",
      "Epoch 10/10 | Train Loss: 1.1429 | Val Loss: 1.6883\n",
      "\n",
      "Best model saved!!\n",
      "\n",
      "Training completed!\n",
      "\n",
      "\n",
      "Final Train Accuracy: 0.6297\n",
      "Final Train Macro F1: 0.3904\n",
      "\n",
      "Final Validation Accuracy: 0.4341\n",
      "Final Validation Macro F1: 0.1929\n"
     ]
    }
   ],
   "source": [
    "# Train the model\n",
    "ckpt_dir = \"../models/checkpoints/emotion_classifier_inital\"\n",
    "best_ckpt = os.path.join(ckpt_dir, \"emotion_classifier_best.pt\")\n",
    "last_ckpt = os.path.join(ckpt_dir, \"emotion_classifier_last.pt\")\n",
    "\n",
    "train_losses, val_losses = model.fit(\n",
    "    optimizer,\n",
    "    criterion,\n",
    "    train_loader,\n",
    "    val_loader,\n",
    "    epochs,\n",
    "    lr,\n",
    "    device=device,\n",
    "    save_best_path=best_ckpt,\n",
    "    save_last_path=last_ckpt\n",
    ")"
   ]
  },
  {
   "cell_type": "code",
   "execution_count": 10,
   "id": "5dc0dbd0-2f3d-4030-9d2b-ca3a8f4b4d6b",
   "metadata": {},
   "outputs": [
    {
     "data": {
      "image/png": "[encoded data removed]",
      "text/plain": [
       "<Figure size 1000x500 with 1 Axes>"
      ]
     },
     "metadata": {},
     "output_type": "display_data"
    }
   ],
   "source": [
    "# Plot the loss curve\n",
    "model.plot_loss_curves(train_losses, val_losses, \"Base Model\")"
   ]
  },
  {
   "cell_type": "markdown",
   "id": "05581358-2f6d-4982-acad-3146282f9d39",
   "metadata": {},
   "source": [
    "# Testing the model"
   ]
  },
  {
   "cell_type": "code",
   "execution_count": 11,
   "id": "e71e91aa-5f7f-4e0b-a20c-0fc774059261",
   "metadata": {},
   "outputs": [
    {
     "name": "stdout",
     "output_type": "stream",
     "text": [
      "Final Test Accuracy: 0.4920\n",
      "Final Test Macro F1: 0.2213\n"
     ]
    }
   ],
   "source": [
    "test_acc, test_macro_f1 = model.evaluate_model(test_loader, device)\n",
    "print(f\"Final Test Accuracy: {test_acc:.4f}\")\n",
    "print(f\"Final Test Macro F1: {test_macro_f1:.4f}\")"
   ]
  },
  {
   "cell_type": "markdown",
   "id": "1e6f36db-9346-40ad-99c5-80a4438e9794",
   "metadata": {},
   "source": [
    "# Check predictions"
   ]
  },
  {
   "cell_type": "code",
   "execution_count": 12,
   "id": "797128c6-5e48-4478-bcdf-acd6ef06935e",
   "metadata": {},
   "outputs": [
    {
     "name": "stdout",
     "output_type": "stream",
     "text": [
      "Utterance: It kicked! I think the baby kicked!\n",
      "True: surprise | Predicted: neutral\n",
      "\n",
      "Utterance: So uh, what are you in for?\n",
      "True: neutral | Predicted: neutral\n",
      "\n",
      "Utterance: Love is the best medicine.\n",
      "True: joy | Predicted: neutral\n",
      "\n",
      "Utterance: There’s just so much pressure.\n",
      "True: anger | Predicted: sadness\n",
      "\n",
      "Utterance: No, I don’t.\n",
      "True: disgust | Predicted: neutral\n",
      "\n",
      "Utterance: Oh my God! We are throwing the most depressing baby shower ever!\n",
      "True: sadness | Predicted: anger\n",
      "\n",
      "Utterance: Sure!\n",
      "True: joy | Predicted: neutral\n",
      "\n"
     ]
    }
   ],
   "source": [
    "model.emotion_predict(test_dataset)"
   ]
  },
  {
   "cell_type": "code",
   "execution_count": null,
   "id": "1943bf92-998c-4b25-ab88-d73131f4d7ea",
   "metadata": {},
   "outputs": [],
   "source": []
  }
 ],
 "metadata": {
  "kernelspec": {
   "display_name": "Python (nlp_project)",
   "language": "python",
   "name": "nlp_project"
  },
  "language_info": {
   "codemirror_mode": {
    "name": "ipython",
    "version": 3
   },
   "file_extension": ".py",
   "mimetype": "text/x-python",
   "name": "python",
   "nbconvert_exporter": "python",
   "pygments_lexer": "ipython3",
   "version": "3.9.23"
  }
 },
 "nbformat": 4,
 "nbformat_minor": 5
}
